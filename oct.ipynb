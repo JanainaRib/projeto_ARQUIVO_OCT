{
 "cells": [
  {
   "cell_type": "code",
   "execution_count": 23,
   "metadata": {},
   "outputs": [],
   "source": [
    "#Importando bibliotecas\n",
    "import requests\n",
    "from bs4 import BeautifulSoup\n",
    "#import selenium\n",
    "from selenium import webdriver\n",
    "from selenium.webdriver.chrome.service import Service\n",
    "from webdriver_manager.chrome import ChromeDriverManager\n",
    "from selenium.webdriver.common.by import By\n",
    "import time\n",
    "from selenium.webdriver.common.action_chains import ActionChains\n",
    "from datetime import datetime, timedelta "
   ]
  },
  {
   "cell_type": "code",
   "execution_count": 24,
   "metadata": {},
   "outputs": [],
   "source": [
    "#    variaveis    #\n",
    "\n",
    "opcoes = webdriver.ChromeOptions()\n",
    "opcoes.add_argument('--headless=new')\n",
    "user = \"8069\"\n",
    "password = \"Lg080716.9\"\n",
    "servico = Service(ChromeDriverManager().install())\n",
    "navegador  = webdriver.Chrome(service=servico, options=opcoes)\n",
    "url_base = 'https://cashview.hdtdigital.com.br/CashView/Login.aspx '\n",
    "navegador.get(url_base)\n",
    "dtainicio= datetime.now() - timedelta (1)\n",
    "dtafinal= datetime.now()"
   ]
  },
  {
   "cell_type": "code",
   "execution_count": 25,
   "metadata": {},
   "outputs": [],
   "source": [
    "#      login        #\n",
    "navegador.find_element(By.ID,\"UserName\").send_keys(user)\n",
    "navegador.find_element(By.ID,\"Password\").send_keys(password)\n",
    "navegador.find_element(By.ID,\"LoginButton\").click()\n"
   ]
  },
  {
   "cell_type": "code",
   "execution_count": 26,
   "metadata": {},
   "outputs": [],
   "source": [
    "#extração do arquivo#\n",
    "hoverable = navegador.find_element(By.XPATH, '//*[@id=\"NavigationMenu\"]/ul/li[3]')\n",
    "ActionChains(navegador)\\\n",
    "        .move_to_element(hoverable)\\\n",
    "        .perform()\n",
    "navegador.find_element(By.XPATH, '//*[@id=\"NavigationMenu:submenu:8\"]/li[1]/a').click()\n",
    "navegador.find_element(By.ID, 'MainContent_txtDataInicio').clear()\n",
    "navegador.find_element(By.ID, 'MainContent_txtDataInicio').send_keys(\"dtainicio = \", dtainicio.strftime('%d-%m-%Y'))\n",
    "navegador.find_element(By.XPATH, '//*[@id=\"MainContent_ddlHorarioInicio\"]').click()\n",
    "navegador.find_element(By.XPATH, '//*[@id=\"MainContent_ddlHorarioInicio\"]/option[18]').click()\n",
    "navegador.find_element(By.ID, 'MainContent_txtDataFim').send_keys(\"dtafinal = \", dtafinal.strftime('%d-%m-%Y'))\n",
    "navegador.find_element(By.ID, 'MainContent_ddlHorarioFim').click()\n",
    "navegador.find_element(By.XPATH, '//*[@id=\"MainContent_ddlHorarioFim\"]/option[18]').click()\n",
    "navegador.find_element(By.ID, 'MainContent_btnConsultar').click()\n",
    "time.sleep (5)\n",
    "navegador.find_element(By.XPATH, '//*[@id=\"ctl00_MainContent_ReportViewer1_ctl06_ctl04_ctl00\"]').click()\n",
    "navegador.find_element(By.XPATH, '//*[@id=\"ctl00_MainContent_ReportViewer1_ctl06_ctl04_ctl00_Menu\"]/div[1]/a').click()\n",
    "time.sleep (20)\n"
   ]
  },
  {
   "cell_type": "code",
   "execution_count": 27,
   "metadata": {},
   "outputs": [],
   "source": [
    "#Fechando o navegador#\n",
    "navegador.quit()\n"
   ]
  }
 ],
 "metadata": {
  "kernelspec": {
   "display_name": "Python 3",
   "language": "python",
   "name": "python3"
  },
  "language_info": {
   "codemirror_mode": {
    "name": "ipython",
    "version": 3
   },
   "file_extension": ".py",
   "mimetype": "text/x-python",
   "name": "python",
   "nbconvert_exporter": "python",
   "pygments_lexer": "ipython3",
   "version": "3.11.4"
  }
 },
 "nbformat": 4,
 "nbformat_minor": 2
}
